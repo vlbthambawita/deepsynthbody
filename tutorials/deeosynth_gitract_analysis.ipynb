{
 "metadata": {
  "language_info": {
   "codemirror_mode": {
    "name": "ipython",
    "version": 3
   },
   "file_extension": ".py",
   "mimetype": "text/x-python",
   "name": "python",
   "nbconvert_exporter": "python",
   "pygments_lexer": "ipython3",
   "version": "3.8.3-final"
  },
  "orig_nbformat": 2,
  "kernelspec": {
   "name": "firstenv",
   "display_name": "firstEnv",
   "language": "python"
  }
 },
 "nbformat": 4,
 "nbformat_minor": 2,
 "cells": [
  {
   "cell_type": "code",
   "execution_count": 30,
   "metadata": {},
   "outputs": [],
   "source": [
    "from PIL import Image\n",
    "import imagehash\n",
    "import glob\n",
    "import pandas as pd\n",
    "from tqdm import tqdm\n",
    "import torch\n",
    "import torchvision\n",
    "import os\n",
    "\n",
    "from pytorch_fid import fid_score, inception"
   ]
  },
  {
   "cell_type": "code",
   "execution_count": 4,
   "metadata": {},
   "outputs": [
    {
     "output_type": "execute_result",
     "data": {
      "text/plain": [
       "1"
      ]
     },
     "metadata": {},
     "execution_count": 4
    }
   ],
   "source": [
    "torch.cuda.device_count()"
   ]
  },
  {
   "source": [
    "## Load 1k images"
   ],
   "cell_type": "markdown",
   "metadata": {}
  },
  {
   "cell_type": "code",
   "execution_count": 52,
   "metadata": {},
   "outputs": [],
   "source": [
    "dir_1k = \"/work/vajira/DL/checkpoints/results/test_1k\"\n",
    "dir_1k_ema = \"/work/vajira/DL/checkpoints/results/test_1k_ema\"\n",
    "dir_1k_mr = \"/work/vajira/DL/checkpoints/results/test_1k_mr\"\n",
    "dir_original = \"/work/vajira/DATA/hyper_kvasir/data_new/unlabelled/data/unlabeled\"\n",
    "dir_original_128 = \"/work/vajira/DATA/hyper_kvasir/data_new/unlabelled/extracted_3k_128x128\"\n",
    "\n",
    "# This each dir has 3k images\n",
    "gan_gen_1k_dirs =[ \"/work/vajira/DATA/hyper_kvasir/data_new/unlabelled/gan_generated_1k_from_0/new_test_005_unlabelled_GI_wihout_aug\",\n",
    "                    \"/work/vajira/DATA/hyper_kvasir/data_new/unlabelled/gan_generated_1k_from_100/new_test_005_unlabelled_GI_wihout_aug\",\n",
    "                    \"/work/vajira/DATA/hyper_kvasir/data_new/unlabelled/gan_generated_1k_from_200/new_test_005_unlabelled_GI_wihout_aug\",\n",
    "                    \"/work/vajira/DATA/hyper_kvasir/data_new/unlabelled/gan_generated_1k_from_300/new_test_005_unlabelled_GI_wihout_aug\",\n",
    "                    \"/work/vajira/DATA/hyper_kvasir/data_new/unlabelled/gan_generated_1k_from_400/new_test_005_unlabelled_GI_wihout_aug\",\n",
    "                    \"/work/vajira/DATA/hyper_kvasir/data_new/unlabelled/gan_generated_1k_from_500/new_test_005_unlabelled_GI_wihout_aug\",\n",
    "                    \"/work/vajira/DATA/hyper_kvasir/data_new/unlabelled/gan_generated_1k_from_600/new_test_005_unlabelled_GI_wihout_aug\",\n",
    "                    \"/work/vajira/DATA/hyper_kvasir/data_new/unlabelled/gan_generated_1k_from_700/new_test_005_unlabelled_GI_wihout_aug\",\n",
    "                    \"/work/vajira/DATA/hyper_kvasir/data_new/unlabelled/gan_generated_1k_from_800/new_test_005_unlabelled_GI_wihout_aug\",\n",
    "                    \"/work/vajira/DATA/hyper_kvasir/data_new/unlabelled/gan_generated_1k_from_900/new_test_005_unlabelled_GI_wihout_aug\",\n",
    "                    \"/work/vajira/DATA/hyper_kvasir/data_new/unlabelled/gan_generated_1k_from_1000/new_test_005_unlabelled_GI_wihout_aug\"\n",
    "                ]"
   ]
  },
  {
   "cell_type": "code",
   "execution_count": 50,
   "metadata": {},
   "outputs": [],
   "source": [
    "fid_dims = [64, 192, 768, 2048]"
   ]
  },
  {
   "source": [
    "## Extract random 3k images with 128 x 128"
   ],
   "cell_type": "markdown",
   "metadata": {}
  },
  {
   "cell_type": "code",
   "execution_count": 25,
   "metadata": {},
   "outputs": [],
   "source": [
    "original_img_paths = glob.glob(dir_original + \"/*\")\n",
    "dst_dir = \"/work/vajira/DATA/hyper_kvasir/data_new/unlabelled/extracted_1k_128x128\""
   ]
  },
  {
   "cell_type": "code",
   "execution_count": 39,
   "metadata": {},
   "outputs": [
    {
     "output_type": "stream",
     "name": "stderr",
     "text": [
      "100%|██████████| 3000/3000 [00:48<00:00, 61.51it/s]\n"
     ]
    }
   ],
   "source": [
    "for i in tqdm(range(3000)):\n",
    "    img = Image.open(original_img_paths[i])\n",
    "    img = torchvision.transforms.functional.resize(img, 128)\n",
    "    img = torchvision.transforms.functional.center_crop(img, 128)\n",
    "    #img = img.resize((128, 128))\n",
    "    img.save(os.path.join(dst_dir, str(i) + \".jpg\" ), format=\"JPEG\")"
   ]
  },
  {
   "source": [
    "## Calculate FID for each checkpoint with different layers"
   ],
   "cell_type": "markdown",
   "metadata": {}
  },
  {
   "cell_type": "code",
   "execution_count": 58,
   "metadata": {},
   "outputs": [],
   "source": [
    "fid_df = pd.DataFrame(columns=[\"chk_point\", \"FID_64\", \"FID_192\", \"FID_768\", \"FID_2048\"])"
   ]
  },
  {
   "cell_type": "code",
   "execution_count": 59,
   "metadata": {},
   "outputs": [
    {
     "output_type": "stream",
     "name": "stderr",
     "text": [
      "100%|██████████| 47/47 [00:01<00:00, 25.96it/s]\n",
      "100%|██████████| 47/47 [00:01<00:00, 24.01it/s]\n",
      "100%|██████████| 47/47 [00:02<00:00, 22.59it/s]\n",
      "100%|██████████| 47/47 [00:02<00:00, 21.17it/s]\n",
      "100%|██████████| 47/47 [00:03<00:00, 12.04it/s]\n",
      "100%|██████████| 47/47 [00:04<00:00, 11.63it/s]\n",
      "100%|██████████| 47/47 [00:04<00:00, 10.67it/s]\n",
      "100%|██████████| 47/47 [00:04<00:00, 10.32it/s]\n",
      "100%|██████████| 47/47 [00:01<00:00, 24.34it/s]\n",
      "100%|██████████| 47/47 [00:01<00:00, 23.93it/s]\n",
      "100%|██████████| 47/47 [00:02<00:00, 21.28it/s]\n",
      "100%|██████████| 47/47 [00:02<00:00, 21.14it/s]\n",
      "100%|██████████| 47/47 [00:04<00:00, 11.71it/s]\n",
      "100%|██████████| 47/47 [00:04<00:00, 11.67it/s]\n",
      "100%|██████████| 47/47 [00:04<00:00, 10.38it/s]\n",
      "100%|██████████| 47/47 [00:04<00:00, 10.32it/s]\n",
      "100%|██████████| 47/47 [00:01<00:00, 24.74it/s]\n",
      "100%|██████████| 47/47 [00:01<00:00, 24.40it/s]\n",
      "100%|██████████| 47/47 [00:02<00:00, 21.43it/s]\n",
      "100%|██████████| 47/47 [00:02<00:00, 21.11it/s]\n",
      "100%|██████████| 47/47 [00:04<00:00, 11.73it/s]\n",
      "100%|██████████| 47/47 [00:04<00:00, 11.62it/s]\n",
      "100%|██████████| 47/47 [00:04<00:00, 10.38it/s]\n",
      "100%|██████████| 47/47 [00:04<00:00, 10.30it/s]\n",
      "100%|██████████| 47/47 [00:02<00:00, 18.18it/s]\n",
      "100%|██████████| 47/47 [00:01<00:00, 24.02it/s]\n",
      "100%|██████████| 47/47 [00:02<00:00, 21.23it/s]\n",
      "100%|██████████| 47/47 [00:02<00:00, 21.13it/s]\n",
      "100%|██████████| 47/47 [00:04<00:00, 11.70it/s]\n",
      "100%|██████████| 47/47 [00:04<00:00, 11.64it/s]\n",
      "100%|██████████| 47/47 [00:04<00:00, 10.36it/s]\n",
      "100%|██████████| 47/47 [00:04<00:00, 10.31it/s]\n",
      "100%|██████████| 47/47 [00:02<00:00, 18.88it/s]\n",
      "100%|██████████| 47/47 [00:01<00:00, 24.47it/s]\n",
      "100%|██████████| 47/47 [00:02<00:00, 21.44it/s]\n",
      "100%|██████████| 47/47 [00:02<00:00, 21.18it/s]\n",
      "100%|██████████| 47/47 [00:04<00:00, 11.71it/s]\n",
      "100%|██████████| 47/47 [00:04<00:00, 11.63it/s]\n",
      "100%|██████████| 47/47 [00:04<00:00, 10.38it/s]\n",
      "100%|██████████| 47/47 [00:04<00:00, 10.32it/s]\n",
      "100%|██████████| 47/47 [00:02<00:00, 18.90it/s]\n",
      "100%|██████████| 47/47 [00:01<00:00, 23.96it/s]\n",
      "100%|██████████| 47/47 [00:02<00:00, 21.29it/s]\n",
      "100%|██████████| 47/47 [00:02<00:00, 21.15it/s]\n",
      "100%|██████████| 47/47 [00:04<00:00, 11.69it/s]\n",
      "100%|██████████| 47/47 [00:04<00:00, 11.62it/s]\n",
      "100%|██████████| 47/47 [00:04<00:00, 10.37it/s]\n",
      "100%|██████████| 47/47 [00:04<00:00, 10.31it/s]\n",
      "100%|██████████| 47/47 [00:02<00:00, 19.48it/s]\n",
      "100%|██████████| 47/47 [00:01<00:00, 24.45it/s]\n",
      "100%|██████████| 47/47 [00:02<00:00, 21.43it/s]\n",
      "100%|██████████| 47/47 [00:02<00:00, 21.08it/s]\n",
      "100%|██████████| 47/47 [00:04<00:00, 11.71it/s]\n",
      "100%|██████████| 47/47 [00:04<00:00, 11.63it/s]\n",
      "100%|██████████| 47/47 [00:04<00:00, 10.37it/s]\n",
      "100%|██████████| 47/47 [00:04<00:00, 10.31it/s]\n",
      "100%|██████████| 47/47 [00:02<00:00, 19.17it/s]\n",
      "100%|██████████| 47/47 [00:01<00:00, 24.04it/s]\n",
      "100%|██████████| 47/47 [00:02<00:00, 21.24it/s]\n",
      "100%|██████████| 47/47 [00:02<00:00, 21.13it/s]\n",
      "100%|██████████| 47/47 [00:04<00:00, 11.69it/s]\n",
      "100%|██████████| 47/47 [00:04<00:00, 11.63it/s]\n",
      "100%|██████████| 47/47 [00:04<00:00, 10.40it/s]\n",
      "100%|██████████| 47/47 [00:04<00:00, 10.33it/s]\n",
      "100%|██████████| 47/47 [00:01<00:00, 24.72it/s]\n",
      "100%|██████████| 47/47 [00:01<00:00, 24.43it/s]\n",
      "100%|██████████| 47/47 [00:02<00:00, 21.33it/s]\n",
      "100%|██████████| 47/47 [00:02<00:00, 21.00it/s]\n",
      "100%|██████████| 47/47 [00:04<00:00, 11.71it/s]\n",
      "100%|██████████| 47/47 [00:04<00:00, 11.68it/s]\n",
      "100%|██████████| 47/47 [00:04<00:00, 10.39it/s]\n",
      "100%|██████████| 47/47 [00:04<00:00, 10.31it/s]\n",
      "100%|██████████| 47/47 [00:01<00:00, 24.22it/s]\n",
      "100%|██████████| 47/47 [00:01<00:00, 24.07it/s]\n",
      "100%|██████████| 47/47 [00:02<00:00, 21.22it/s]\n",
      "100%|██████████| 47/47 [00:02<00:00, 21.08it/s]\n",
      "100%|██████████| 47/47 [00:04<00:00, 11.68it/s]\n",
      "100%|██████████| 47/47 [00:04<00:00, 11.65it/s]\n",
      "100%|██████████| 47/47 [00:04<00:00, 10.35it/s]\n",
      "100%|██████████| 47/47 [00:04<00:00, 10.32it/s]\n",
      "100%|██████████| 47/47 [00:02<00:00, 19.42it/s]\n",
      "100%|██████████| 47/47 [00:01<00:00, 24.34it/s]\n",
      "100%|██████████| 47/47 [00:02<00:00, 21.32it/s]\n",
      "100%|██████████| 47/47 [00:02<00:00, 21.13it/s]\n",
      "100%|██████████| 47/47 [00:04<00:00, 11.68it/s]\n",
      "100%|██████████| 47/47 [00:04<00:00, 11.65it/s]\n",
      "100%|██████████| 47/47 [00:04<00:00, 10.36it/s]\n",
      "100%|██████████| 47/47 [00:04<00:00, 10.31it/s]\n"
     ]
    }
   ],
   "source": [
    "for i, gan_dir in enumerate(gan_gen_1k_dirs): \n",
    "    chk_point = i * 100\n",
    "\n",
    "    fid_64 = fid_score.calculate_fid_given_paths([gan_dir, dir_original_128], 64, torch.device(\"cuda:1\"),dims=64)\n",
    "    fid_192 = fid_score.calculate_fid_given_paths([gan_dir, dir_original_128], 64, torch.device(\"cuda:1\"),dims=192)\n",
    "    fid_768 = fid_score.calculate_fid_given_paths([gan_dir, dir_original_128], 64, torch.device(\"cuda:1\"),dims=768)\n",
    "    fid_2048 = fid_score.calculate_fid_given_paths([gan_dir, dir_original_128], 64, torch.device(\"cuda:1\"),dims=2048)\n",
    "\n",
    "    fid_df = fid_df.append({\"chk_point\": chk_point, \"FID_64\": fid_64, \"FID_192\": fid_192, \"FID_768\":fid_768, \"FID_2048\":fid_2048}, ignore_index=True)\n"
   ]
  },
  {
   "cell_type": "code",
   "execution_count": 60,
   "metadata": {},
   "outputs": [
    {
     "output_type": "execute_result",
     "data": {
      "text/plain": [
       "    chk_point     FID_64     FID_192   FID_768    FID_2048\n",
       "0         0.0  39.109040  189.493765  2.615853  342.075087\n",
       "1       100.0   1.770995    8.348001  0.303003   58.948974\n",
       "2       200.0   1.661565    8.027057  0.297659   59.721490\n",
       "3       300.0   1.657510    7.830963  0.267125   52.659655\n",
       "4       400.0   1.280054    6.118289  0.242879   48.569359\n",
       "5       500.0   1.226208    5.875927  0.237158   49.351194\n",
       "6       600.0   1.597361    7.458629  0.262617   52.944055\n",
       "7       700.0   1.382576    6.506347  0.236304   46.266849\n",
       "8       800.0   1.193848    5.911193  0.231225   46.793082\n",
       "9       900.0   0.653704    3.026018  0.201677   44.331041\n",
       "10     1000.0   0.873611    4.292560  0.198012   41.203879"
      ],
      "text/html": "<div>\n<style scoped>\n    .dataframe tbody tr th:only-of-type {\n        vertical-align: middle;\n    }\n\n    .dataframe tbody tr th {\n        vertical-align: top;\n    }\n\n    .dataframe thead th {\n        text-align: right;\n    }\n</style>\n<table border=\"1\" class=\"dataframe\">\n  <thead>\n    <tr style=\"text-align: right;\">\n      <th></th>\n      <th>chk_point</th>\n      <th>FID_64</th>\n      <th>FID_192</th>\n      <th>FID_768</th>\n      <th>FID_2048</th>\n    </tr>\n  </thead>\n  <tbody>\n    <tr>\n      <th>0</th>\n      <td>0.0</td>\n      <td>39.109040</td>\n      <td>189.493765</td>\n      <td>2.615853</td>\n      <td>342.075087</td>\n    </tr>\n    <tr>\n      <th>1</th>\n      <td>100.0</td>\n      <td>1.770995</td>\n      <td>8.348001</td>\n      <td>0.303003</td>\n      <td>58.948974</td>\n    </tr>\n    <tr>\n      <th>2</th>\n      <td>200.0</td>\n      <td>1.661565</td>\n      <td>8.027057</td>\n      <td>0.297659</td>\n      <td>59.721490</td>\n    </tr>\n    <tr>\n      <th>3</th>\n      <td>300.0</td>\n      <td>1.657510</td>\n      <td>7.830963</td>\n      <td>0.267125</td>\n      <td>52.659655</td>\n    </tr>\n    <tr>\n      <th>4</th>\n      <td>400.0</td>\n      <td>1.280054</td>\n      <td>6.118289</td>\n      <td>0.242879</td>\n      <td>48.569359</td>\n    </tr>\n    <tr>\n      <th>5</th>\n      <td>500.0</td>\n      <td>1.226208</td>\n      <td>5.875927</td>\n      <td>0.237158</td>\n      <td>49.351194</td>\n    </tr>\n    <tr>\n      <th>6</th>\n      <td>600.0</td>\n      <td>1.597361</td>\n      <td>7.458629</td>\n      <td>0.262617</td>\n      <td>52.944055</td>\n    </tr>\n    <tr>\n      <th>7</th>\n      <td>700.0</td>\n      <td>1.382576</td>\n      <td>6.506347</td>\n      <td>0.236304</td>\n      <td>46.266849</td>\n    </tr>\n    <tr>\n      <th>8</th>\n      <td>800.0</td>\n      <td>1.193848</td>\n      <td>5.911193</td>\n      <td>0.231225</td>\n      <td>46.793082</td>\n    </tr>\n    <tr>\n      <th>9</th>\n      <td>900.0</td>\n      <td>0.653704</td>\n      <td>3.026018</td>\n      <td>0.201677</td>\n      <td>44.331041</td>\n    </tr>\n    <tr>\n      <th>10</th>\n      <td>1000.0</td>\n      <td>0.873611</td>\n      <td>4.292560</td>\n      <td>0.198012</td>\n      <td>41.203879</td>\n    </tr>\n  </tbody>\n</table>\n</div>"
     },
     "metadata": {},
     "execution_count": 60
    }
   ],
   "source": [
    "fid_df"
   ]
  },
  {
   "cell_type": "code",
   "execution_count": null,
   "metadata": {},
   "outputs": [],
   "source": [
    "fid_df.to_csv(\"fid_scores.csv\")"
   ]
  },
  {
   "cell_type": "code",
   "execution_count": null,
   "metadata": {},
   "outputs": [],
   "source": []
  },
  {
   "cell_type": "code",
   "execution_count": null,
   "metadata": {},
   "outputs": [],
   "source": []
  },
  {
   "cell_type": "code",
   "execution_count": null,
   "metadata": {},
   "outputs": [],
   "source": []
  },
  {
   "cell_type": "code",
   "execution_count": 44,
   "metadata": {},
   "outputs": [
    {
     "output_type": "stream",
     "name": "stderr",
     "text": [
      "100%|██████████| 47/47 [00:02<00:00, 22.57it/s]\n",
      "100%|██████████| 47/47 [00:02<00:00, 21.11it/s]\n"
     ]
    },
    {
     "output_type": "execute_result",
     "data": {
      "text/plain": [
       "189.49376519130644"
      ]
     },
     "metadata": {},
     "execution_count": 44
    }
   ],
   "source": [
    "fid_score.calculate_fid_given_paths([gan_gen_1k_dirs[0], dir_original_128], 64, torch.device(\"cuda:1\"),dims=192)"
   ]
  },
  {
   "cell_type": "code",
   "execution_count": 45,
   "metadata": {},
   "outputs": [
    {
     "output_type": "stream",
     "name": "stderr",
     "text": [
      "100%|██████████| 47/47 [00:02<00:00, 16.46it/s]\n",
      "100%|██████████| 47/47 [00:02<00:00, 20.98it/s]\n"
     ]
    },
    {
     "output_type": "execute_result",
     "data": {
      "text/plain": [
       "8.348000607243744"
      ]
     },
     "metadata": {},
     "execution_count": 45
    }
   ],
   "source": [
    "fid_score.calculate_fid_given_paths([gan_gen_1k_dirs[1], dir_original_128], 64, torch.device(\"cuda:1\"),dims=192)"
   ]
  },
  {
   "cell_type": "code",
   "execution_count": 46,
   "metadata": {},
   "outputs": [
    {
     "output_type": "stream",
     "name": "stderr",
     "text": [
      "100%|██████████| 47/47 [00:02<00:00, 16.65it/s]\n",
      "100%|██████████| 47/47 [00:02<00:00, 21.12it/s]\n"
     ]
    },
    {
     "output_type": "execute_result",
     "data": {
      "text/plain": [
       "8.027057006413486"
      ]
     },
     "metadata": {},
     "execution_count": 46
    }
   ],
   "source": [
    "fid_score.calculate_fid_given_paths([gan_gen_1k_dirs[2], dir_original_128], 64, torch.device(\"cuda:1\"),dims=192)"
   ]
  },
  {
   "cell_type": "code",
   "execution_count": null,
   "metadata": {},
   "outputs": [],
   "source": [
    "fid_score.calculate_fid_given_paths([gan_gen_1k_dirs[0], dir_original_128], 64, torch.device(\"cuda:1\"),dims=192)"
   ]
  },
  {
   "cell_type": "code",
   "execution_count": 48,
   "metadata": {},
   "outputs": [
    {
     "output_type": "stream",
     "name": "stderr",
     "text": [
      "100%|██████████| 47/47 [00:02<00:00, 16.37it/s]\n",
      "100%|██████████| 47/47 [00:02<00:00, 21.04it/s]\n"
     ]
    },
    {
     "output_type": "execute_result",
     "data": {
      "text/plain": [
       "5.911193134223296"
      ]
     },
     "metadata": {},
     "execution_count": 48
    }
   ],
   "source": [
    "fid_score.calculate_fid_given_paths([gan_gen_1k_dirs[8], dir_original_128], 64, torch.device(\"cuda:1\"),dims=192)"
   ]
  },
  {
   "cell_type": "code",
   "execution_count": 47,
   "metadata": {},
   "outputs": [
    {
     "output_type": "stream",
     "name": "stderr",
     "text": [
      "100%|██████████| 47/47 [00:02<00:00, 16.35it/s]\n",
      "100%|██████████| 47/47 [00:02<00:00, 21.13it/s]\n"
     ]
    },
    {
     "output_type": "execute_result",
     "data": {
      "text/plain": [
       "3.02601831367744"
      ]
     },
     "metadata": {},
     "execution_count": 47
    }
   ],
   "source": [
    "fid_score.calculate_fid_given_paths([gan_gen_1k_dirs[9], dir_original_128], 64, torch.device(\"cuda:1\"),dims=192)"
   ]
  },
  {
   "cell_type": "code",
   "execution_count": 10,
   "metadata": {},
   "outputs": [],
   "source": [
    "img_1k_path_list = glob.glob(dir_1k + \"/*\")\n",
    "img_1k_ema_path_list = glob.glob(dir_1k_ema + \"/*\")\n",
    "img_1k_mr_path_list = glob.glob(dir_1k_mr + \"/*a\")"
   ]
  },
  {
   "source": [
    "# Data frames to store hash values"
   ],
   "cell_type": "markdown",
   "metadata": {}
  },
  {
   "cell_type": "code",
   "execution_count": 23,
   "metadata": {},
   "outputs": [],
   "source": [
    "df_1k = pd.DataFrame(columns=[\"img_path\", \"aHash\", \"pHash\",\"dHash\", \"wHash\", \"clrHash\" ])"
   ]
  },
  {
   "cell_type": "code",
   "execution_count": 25,
   "metadata": {},
   "outputs": [],
   "source": [
    "aHash = imagehash.average_hash(Image.open(img_1k_path_list[0]))\n",
    "pHash = imagehash.phash(Image.open(img_1k_path_list[0]))\n",
    "dHash = imagehash.dhash(Image.open(img_1k_path_list[0]))\n",
    "wHash = imagehash.whash(Image.open(img_1k_path_list[0]))\n",
    "#cropHash = imagehash.crop_resistant_hash((Image.open(img_1k_path_list[0]))) # This is returning multiple hash values\n",
    "clrHash = imagehash.colorhash((Image.open(img_1k_path_list[0])))\n",
    "\n",
    "df_1k = df_1k.append({\"img_path\": img_1k_path_list[0],\n",
    "                        \"aHash\": aHash, \n",
    "                        \"pHash\": pHash,\n",
    "                        \"dHash\": dHash, \n",
    "                        \"wHash\": wHash, \n",
    "                        #\"cropHash\": cropHash,\n",
    "                        \"clrHash\": clrHash\n",
    "                    }, ignore_index=True)\n"
   ]
  },
  {
   "cell_type": "code",
   "execution_count": 26,
   "metadata": {},
   "outputs": [
    {
     "output_type": "execute_result",
     "data": {
      "text/plain": [
       "                                            img_path             aHash  \\\n",
       "0  /work/vajira/DL/checkpoints/results/test_1k/ge...  1e7f7f7e60c0c000   \n",
       "\n",
       "              pHash             dHash             wHash  \\\n",
       "0  d1871c7117dc356c  f8f0f0c8d89888a2  1e7f7f7ee0e0c000   \n",
       "\n",
       "                                            cropHash      clrHash  \n",
       "0  f8f0f2e8d89888a2,f8f8f0f0f0f0f2ec,e8c8dc9898a0...  06e00000000  "
      ],
      "text/html": "<div>\n<style scoped>\n    .dataframe tbody tr th:only-of-type {\n        vertical-align: middle;\n    }\n\n    .dataframe tbody tr th {\n        vertical-align: top;\n    }\n\n    .dataframe thead th {\n        text-align: right;\n    }\n</style>\n<table border=\"1\" class=\"dataframe\">\n  <thead>\n    <tr style=\"text-align: right;\">\n      <th></th>\n      <th>img_path</th>\n      <th>aHash</th>\n      <th>pHash</th>\n      <th>dHash</th>\n      <th>wHash</th>\n      <th>cropHash</th>\n      <th>clrHash</th>\n    </tr>\n  </thead>\n  <tbody>\n    <tr>\n      <th>0</th>\n      <td>/work/vajira/DL/checkpoints/results/test_1k/ge...</td>\n      <td>1e7f7f7e60c0c000</td>\n      <td>d1871c7117dc356c</td>\n      <td>f8f0f0c8d89888a2</td>\n      <td>1e7f7f7ee0e0c000</td>\n      <td>f8f0f2e8d89888a2,f8f8f0f0f0f0f2ec,e8c8dc9898a0...</td>\n      <td>06e00000000</td>\n    </tr>\n  </tbody>\n</table>\n</div>"
     },
     "metadata": {},
     "execution_count": 26
    }
   ],
   "source": [
    "df_1k"
   ]
  },
  {
   "cell_type": "code",
   "execution_count": 12,
   "metadata": {},
   "outputs": [
    {
     "output_type": "stream",
     "name": "stdout",
     "text": [
      "1e7f7f7e60c0c000\n"
     ]
    }
   ],
   "source": [
    "print(hash)"
   ]
  },
  {
   "cell_type": "code",
   "execution_count": 13,
   "metadata": {},
   "outputs": [
    {
     "output_type": "execute_result",
     "data": {
      "text/plain": [
       "imagehash.ImageHash"
      ]
     },
     "metadata": {},
     "execution_count": 13
    }
   ],
   "source": [
    "type(hash)"
   ]
  },
  {
   "cell_type": "code",
   "execution_count": null,
   "metadata": {},
   "outputs": [],
   "source": [
    "fid."
   ]
  }
 ]
}