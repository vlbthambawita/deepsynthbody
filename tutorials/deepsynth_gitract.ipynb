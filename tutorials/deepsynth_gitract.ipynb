{
 "metadata": {
  "language_info": {
   "codemirror_mode": {
    "name": "ipython",
    "version": 3
   },
   "file_extension": ".py",
   "mimetype": "text/x-python",
   "name": "python",
   "nbconvert_exporter": "python",
   "pygments_lexer": "ipython3",
   "version": "3.8.3-final"
  },
  "orig_nbformat": 2,
  "kernelspec": {
   "name": "firstenv",
   "display_name": "firstEnv",
   "language": "python"
  }
 },
 "nbformat": 4,
 "nbformat_minor": 2,
 "cells": [
  {
   "cell_type": "code",
   "execution_count": 2,
   "metadata": {},
   "outputs": [],
   "source": [
    "import deepsynthbody.digestive.gitract as gi"
   ]
  },
  {
   "cell_type": "code",
   "execution_count": 3,
   "metadata": {},
   "outputs": [
    {
     "output_type": "stream",
     "name": "stdout",
     "text": [
      "Help on function generate in module deepsynthbody.digestive.gitract.functions:\n\ngenerate(name, result_dir, checkpoint_dir, num_img_per_tile, num_of_outputs, trunc_psi=0.75, **kwargs)\n    Generate deepfake Gastrointestinal tract images.\n    \n    Keyword arguments:\n    name -- Any name to keep trac of generations\n    result_dir -- A directory to save output\n    checkpoint_dir -- A directory to download pre-trained checkpoints\n    num_img_per_tile -- Number of images per dimenstion of the grid\n    num_of_outputs -- Number of outputs to generate\n    trunc_psi -- value between 0.5 and 1.0 (default 0.75)\n\n"
     ]
    }
   ],
   "source": [
    "help(gi.generate)"
   ]
  },
  {
   "cell_type": "code",
   "execution_count": 4,
   "metadata": {},
   "outputs": [
    {
     "output_type": "stream",
     "name": "stdout",
     "text": [
      "Help on function generate_interpolation in module deepsynthbody.digestive.gitract.functions:\n\ngenerate_interpolation(name, result_dir, checkpoint_dir, num_img_per_tile, num_of_outputs, num_of_steps_to_interpolate, save_frames, trunc_psi=0.75, **kwargs)\n    Generate deepfake Gastrointestinal tract images.\n    \n    Keyword arguments:\n    name -- Any name to keep trac of generations\n    result_dir -- A directory to save output\n    checkpoint_dir -- A directory to download pre-trained checkpoints\n    num_img_per_tile -- Number of images per dimenstion of the grid\n    num_of_outputs -- Number of outputs to generate\n    num_of_steps_to_interpolate -- Number of step between two random points\n    save_frames -- True if you want frame by frame, otherwise .gif will be generated\n    trunc_psi -- value between 0.5 and 1.0 (default 0.75)\n\n"
     ]
    }
   ],
   "source": [
    "help(gi.generate_interpolation)"
   ]
  },
  {
   "cell_type": "code",
   "execution_count": 5,
   "metadata": {},
   "outputs": [
    {
     "output_type": "stream",
     "name": "stdout",
     "text": [
      "Downloading checkpoints...\n",
      "Download checkpoints to: /work/vajira/DL/checkpoints/test_10/model_1000.pt\n",
      "continuing from previous epoch - 1000\n",
      "  0%|          | 0/10 [00:00<?, ?it/s]loading from version 1.5.10\n",
      "100%|██████████| 10/10 [00:00<00:00, 12.47it/s]sample images generated at /work/vajira/DL/checkpoints/results/test_10/generated-01-28-2021_21-02-26\n",
      "\n"
     ]
    }
   ],
   "source": [
    "gi.generate(\"test_10\", \"/work/vajira/DL/checkpoints/results\", \"/work/vajira/DL/checkpoints\", \n",
    "            num_img_per_tile = 1, \n",
    "            num_of_outputs= 10, trunc_psi=0.75)"
   ]
  },
  {
   "cell_type": "code",
   "execution_count": 6,
   "metadata": {},
   "outputs": [
    {
     "output_type": "stream",
     "name": "stdout",
     "text": [
      "checkpoint is already available at: /work/vajira/DL/checkpoints/test_10/model_1000.pt\n",
      "continuing from previous epoch - 1000\n",
      "loading from version 1.5.10\n",
      "100%|██████████| 100/100 [00:01<00:00, 55.62it/s]\n",
      "interpolation generated at /work/vajira/DL/checkpoints/results/test_10/generated-01-28-2021_21-02-30\n"
     ]
    }
   ],
   "source": [
    "gi.generate_interpolation(\"test_10\", \"/work/vajira/DL/checkpoints/results\", \"/work/vajira/DL/checkpoints\", \n",
    "                        num_img_per_tile=1,\n",
    "                        num_of_outputs=1,\n",
    "                        save_frames=True,\n",
    "                        num_of_steps_to_interpolate=100,seed=100)"
   ]
  },
  {
   "cell_type": "code",
   "execution_count": null,
   "metadata": {},
   "outputs": [],
   "source": []
  }
 ]
}