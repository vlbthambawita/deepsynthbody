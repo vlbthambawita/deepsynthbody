{
 "cells": [
  {
   "cell_type": "code",
   "execution_count": 1,
   "id": "c0b692cb-022a-460d-8664-63e5d738cf4c",
   "metadata": {},
   "outputs": [],
   "source": [
    "import deepsynthbody.cardiovascular.ecg as ecg\n"
   ]
  },
  {
   "cell_type": "code",
   "execution_count": 7,
   "id": "80fb5e45-80b2-4aeb-8390-35045a3e6de5",
   "metadata": {},
   "outputs": [
    {
     "name": "stdout",
     "output_type": "stream",
     "text": [
      "Help on function generate in module deepsynthbody.cardiovascular.ecg.functions:\n",
      "\n",
      "generate(num_ecg, out_dir, start_id=0, device='cpu', **kwargs)\n",
      "    Generate DeepFake 12-leads 10-sec long ECG.\n",
      "    \n",
      "    Parameters\n",
      "    ----------------\n",
      "    num_ecg: int\n",
      "        Number of DeepFake ECGs to generate randomly.\n",
      "    out_dir: str\n",
      "        A directory to save output files with extension \".asc\". \n",
      "    start_id: int \n",
      "        A interger number to start file names. Default value is 0.and\n",
      "    device: str\n",
      "        A device to run the generator. Use strin \"cpu\" to run on CPU and \"cuda\" to run on a GPU. \n",
      "    \n",
      "    Return\n",
      "    ------\n",
      "    None\n",
      "        No return value.\n",
      "\n"
     ]
    }
   ],
   "source": [
    "help(ecg.generate)"
   ]
  },
  {
   "cell_type": "markdown",
   "id": "bc3608b8-374f-4cc2-bb8c-bbbcddbb7f1e",
   "metadata": {},
   "source": [
    "## To run the ECG generator on CPU"
   ]
  },
  {
   "cell_type": "code",
   "execution_count": 2,
   "id": "d9c523a5-2d9d-4f75-8085-ba857f55d225",
   "metadata": {},
   "outputs": [
    {
     "name": "stderr",
     "output_type": "stream",
     "text": [
      "/home/vajira/anaconda3/envs/pytorch18/lib/python3.8/site-packages/deepfakeecg/models/pulse2pulse.py:85: UserWarning: nn.init.kaiming_normal is now deprecated in favor of nn.init.kaiming_normal_.\n",
      "  nn.init.kaiming_normal(m.weight.data)\n",
      "100%|██████████| 5/5 [00:00<00:00, 34.56it/s]\n"
     ]
    }
   ],
   "source": [
    "ecg.generate(5, \"sample_ecgs\", start_id=0, device=\"cpu\")"
   ]
  },
  {
   "cell_type": "markdown",
   "id": "8e5e3df4-0601-46b3-80b9-1755f8a1389e",
   "metadata": {},
   "source": [
    "## To run the ECG generator on GPU"
   ]
  },
  {
   "cell_type": "code",
   "execution_count": 5,
   "id": "46b27a0a-ee63-4fca-bac8-cf108b37f5f3",
   "metadata": {},
   "outputs": [
    {
     "name": "stderr",
     "output_type": "stream",
     "text": [
      "100%|██████████| 5/5 [00:00<00:00, 11.25it/s]\n"
     ]
    }
   ],
   "source": [
    "ecg.generate(5, \"sample_ecgs\", start_id=10, device=\"cuda\")"
   ]
  },
  {
   "cell_type": "code",
   "execution_count": null,
   "id": "82de4158-960c-430c-92c7-797c3efb6f16",
   "metadata": {},
   "outputs": [],
   "source": []
  }
 ],
 "metadata": {
  "kernelspec": {
   "display_name": "pytorch18",
   "language": "python",
   "name": "pytorch18"
  },
  "language_info": {
   "codemirror_mode": {
    "name": "ipython",
    "version": 3
   },
   "file_extension": ".py",
   "mimetype": "text/x-python",
   "name": "python",
   "nbconvert_exporter": "python",
   "pygments_lexer": "ipython3",
   "version": "3.8.8"
  }
 },
 "nbformat": 4,
 "nbformat_minor": 5
}
